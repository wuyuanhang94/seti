{
 "metadata": {
  "language_info": {
   "codemirror_mode": {
    "name": "ipython",
    "version": 3
   },
   "file_extension": ".py",
   "mimetype": "text/x-python",
   "name": "python",
   "nbconvert_exporter": "python",
   "pygments_lexer": "ipython3",
   "version": "3.8.8"
  },
  "orig_nbformat": 2,
  "kernelspec": {
   "name": "python388jvsc74a57bd00e55cc81b9a6c19410c5d5ccc897330192fb0b15c62f72e6fe5432003b6f2380",
   "display_name": "Python 3.8.8 64-bit ('base': conda)"
  }
 },
 "nbformat": 4,
 "nbformat_minor": 2,
 "cells": [
  {
   "cell_type": "code",
   "execution_count": 3,
   "metadata": {},
   "outputs": [],
   "source": [
    "import pandas as pd\n",
    "import numpy as np\n",
    "\n",
    "sub1_df = pd.read_csv('/raid/yiw/seti/subs/submission_b2_p_m.csv')\n",
    "sub2_df = pd.read_csv('/raid/yiw/seti/subs/submission_b3_p_m.csv')\n",
    "sub3_df = pd.read_csv('/raid/yiw/seti/subs/submission_b4_p_m.csv')\n",
    "sub4_df = pd.read_csv('/raid/yiw/seti/subs/submission_v2s_p_m.csv')\n",
    "\n",
    "sub_df = pd.read_csv('/raid/yiw/seti/input/submission.csv')\n",
    "\n",
    "sub_df['target1'] = sub1_df.target * 0.85\n",
    "sub_df['target2'] = sub2_df.target * 0.95\n",
    "sub_df['target3'] = sub2_df.target * 1.2\n",
    "sub_df['target4'] = sub2_df.target * 1.0\n",
    "\n",
    "vals = [sub_df.target1.values, sub_df.target2.values, sub_df.target3.values, sub_df.target4.values]\n",
    "\n",
    "sub_df['target'] = np.mean(vals, axis=0)\n",
    "\n",
    "sub_df.drop(columns=['target1', 'target2', 'target3', 'target4', 'file_path'], inplace=True)\n",
    "sub_df.to_csv('subs/submission.csv', index=False)"
   ]
  }
 ]
}