{
 "metadata": {
  "language_info": {
   "codemirror_mode": {
    "name": "ipython",
    "version": 3
   },
   "file_extension": ".py",
   "mimetype": "text/x-python",
   "name": "python",
   "nbconvert_exporter": "python",
   "pygments_lexer": "ipython3",
   "version": "3.8.3"
  },
  "orig_nbformat": 2,
  "kernelspec": {
   "name": "python383jvsc74a57bd0bf8dda74b6ece9698557ab1431b2923c78a20e6d4213149bdefcdbfba3d79441",
   "display_name": "Python 3.8.3 64-bit ('base': conda)"
  }
 },
 "nbformat": 4,
 "nbformat_minor": 2,
 "cells": [
  {
   "cell_type": "code",
   "execution_count": 84,
   "metadata": {},
   "outputs": [
    {
     "output_type": "stream",
     "name": "stderr",
     "text": [
      "<ipython-input-84-899e5d371e49>:12: SettingWithCopyWarning: \nA value is trying to be set on a copy of a slice from a DataFrame.\nTry using .loc[row_indexer,col_indexer] = value instead\n\nSee the caveats in the documentation: https://pandas.pydata.org/pandas-docs/stable/user_guide/indexing.html#returning-a-view-versus-a-copy\n  neg_df['target'] = 0\n<ipython-input-84-899e5d371e49>:15: SettingWithCopyWarning: \nA value is trying to be set on a copy of a slice from a DataFrame.\nTry using .loc[row_indexer,col_indexer] = value instead\n\nSee the caveats in the documentation: https://pandas.pydata.org/pandas-docs/stable/user_guide/indexing.html#returning-a-view-versus-a-copy\n  pos_df['target'] = 1\n"
     ]
    },
    {
     "output_type": "display_data",
     "data": {
      "text/plain": "fold  target\n0     0         6108\n      1          915\n1     0         6108\n      1          915\n2     0         6108\n      1          915\n3     0         6108\n      1          915\n4     0         6108\n      1          915\ndtype: int64"
     },
     "metadata": {}
    }
   ],
   "source": [
    "import pandas as pd\n",
    "from sklearn.model_selection import StratifiedKFold\n",
    "\n",
    "def get_test_file_path(image_id):\n",
    "    return f'/datadisk/kg/seti/input/test/{image_id[0]}/{image_id}.npy'\n",
    "\n",
    "plabel_df = pd.read_csv('/datadisk/kg/seti/subs/submission.csv')\n",
    "plabel_df['file_path'] = plabel_df['id'].apply(get_test_file_path)\n",
    "\n",
    "neg_df = plabel_df[plabel_df['target'] <= 0.1]\n",
    "neg_df.reset_index(inplace=True, drop=True)\n",
    "neg_df['target'] = 0\n",
    "pos_df = plabel_df[plabel_df['target'] >= 0.9]\n",
    "pos_df.reset_index(inplace=True, drop=True)\n",
    "pos_df['target'] = 1\n",
    "\n",
    "mg_df = pd.concat([neg_df, pos_df])\n",
    "mg_df.reset_index(inplace=True, drop=True)\n",
    "\n",
    "folds = StratifiedKFold(n_splits=5, shuffle=True, random_state=2021)\n",
    "folds = folds.split(mg_df, mg_df.target)\n",
    "\n",
    "for fold, (train_idx, val_idx) in enumerate(folds):\n",
    "    mg_df.loc[val_idx, 'fold'] = int(fold)\n",
    "\n",
    "mg_df['fold'] = mg_df['fold'].astype(int)\n",
    "display(mg_df.groupby(['fold', 'target']).size())"
   ]
  },
  {
   "cell_type": "code",
   "execution_count": 85,
   "metadata": {},
   "outputs": [
    {
     "output_type": "execute_result",
     "data": {
      "text/plain": [
       "                 id  ...  fold\n",
       "0      00034db451c4  ...     4\n",
       "1      0006316b5ca0  ...     1\n",
       "2      0006a953d21b  ...     4\n",
       "3      0008a33d6695  ...     1\n",
       "4      00095b5119fc  ...     3\n",
       "...             ...  ...   ...\n",
       "35110  ffcdb44aab9b  ...     3\n",
       "35111  ffd062e29fe5  ...     2\n",
       "35112  ffe37439d388  ...     3\n",
       "35113  ffe6f31dcb95  ...     3\n",
       "35114  ffe9fae2a48f  ...     1\n",
       "\n",
       "[35115 rows x 4 columns]"
      ],
      "text/html": "<div>\n<style scoped>\n    .dataframe tbody tr th:only-of-type {\n        vertical-align: middle;\n    }\n\n    .dataframe tbody tr th {\n        vertical-align: top;\n    }\n\n    .dataframe thead th {\n        text-align: right;\n    }\n</style>\n<table border=\"1\" class=\"dataframe\">\n  <thead>\n    <tr style=\"text-align: right;\">\n      <th></th>\n      <th>id</th>\n      <th>target</th>\n      <th>file_path</th>\n      <th>fold</th>\n    </tr>\n  </thead>\n  <tbody>\n    <tr>\n      <th>0</th>\n      <td>00034db451c4</td>\n      <td>0</td>\n      <td>/datadisk/kg/seti/input/test/0/00034db451c4.npy</td>\n      <td>4</td>\n    </tr>\n    <tr>\n      <th>1</th>\n      <td>0006316b5ca0</td>\n      <td>0</td>\n      <td>/datadisk/kg/seti/input/test/0/0006316b5ca0.npy</td>\n      <td>1</td>\n    </tr>\n    <tr>\n      <th>2</th>\n      <td>0006a953d21b</td>\n      <td>0</td>\n      <td>/datadisk/kg/seti/input/test/0/0006a953d21b.npy</td>\n      <td>4</td>\n    </tr>\n    <tr>\n      <th>3</th>\n      <td>0008a33d6695</td>\n      <td>0</td>\n      <td>/datadisk/kg/seti/input/test/0/0008a33d6695.npy</td>\n      <td>1</td>\n    </tr>\n    <tr>\n      <th>4</th>\n      <td>00095b5119fc</td>\n      <td>0</td>\n      <td>/datadisk/kg/seti/input/test/0/00095b5119fc.npy</td>\n      <td>3</td>\n    </tr>\n    <tr>\n      <th>...</th>\n      <td>...</td>\n      <td>...</td>\n      <td>...</td>\n      <td>...</td>\n    </tr>\n    <tr>\n      <th>35110</th>\n      <td>ffcdb44aab9b</td>\n      <td>1</td>\n      <td>/datadisk/kg/seti/input/test/f/ffcdb44aab9b.npy</td>\n      <td>3</td>\n    </tr>\n    <tr>\n      <th>35111</th>\n      <td>ffd062e29fe5</td>\n      <td>1</td>\n      <td>/datadisk/kg/seti/input/test/f/ffd062e29fe5.npy</td>\n      <td>2</td>\n    </tr>\n    <tr>\n      <th>35112</th>\n      <td>ffe37439d388</td>\n      <td>1</td>\n      <td>/datadisk/kg/seti/input/test/f/ffe37439d388.npy</td>\n      <td>3</td>\n    </tr>\n    <tr>\n      <th>35113</th>\n      <td>ffe6f31dcb95</td>\n      <td>1</td>\n      <td>/datadisk/kg/seti/input/test/f/ffe6f31dcb95.npy</td>\n      <td>3</td>\n    </tr>\n    <tr>\n      <th>35114</th>\n      <td>ffe9fae2a48f</td>\n      <td>1</td>\n      <td>/datadisk/kg/seti/input/test/f/ffe9fae2a48f.npy</td>\n      <td>1</td>\n    </tr>\n  </tbody>\n</table>\n<p>35115 rows × 4 columns</p>\n</div>"
     },
     "metadata": {},
     "execution_count": 85
    }
   ],
   "source": [
    "mg_df"
   ]
  },
  {
   "cell_type": "code",
   "execution_count": 86,
   "metadata": {},
   "outputs": [],
   "source": [
    "mg_df.to_csv('input/plabel.csv', index=False)"
   ]
  },
  {
   "cell_type": "code",
   "execution_count": 40,
   "metadata": {},
   "outputs": [
    {
     "output_type": "execute_result",
     "data": {
      "text/plain": [
       "                 id    target\n",
       "0      00034db451c4  0.006033\n",
       "1      0006316b5ca0  0.002375\n",
       "2      0006a953d21b  0.002036\n",
       "3      0008a33d6695  0.050115\n",
       "4      00095b5119fc  0.019978\n",
       "...             ...       ...\n",
       "35842  ffeed3a168de  0.000701\n",
       "35843  fff177e32aac  0.003295\n",
       "35844  fff7d40b225a  0.002256\n",
       "35845  fff8238a709f  0.001924\n",
       "35846  fff882b197de  0.002020\n",
       "\n",
       "[35847 rows x 2 columns]"
      ],
      "text/html": "<div>\n<style scoped>\n    .dataframe tbody tr th:only-of-type {\n        vertical-align: middle;\n    }\n\n    .dataframe tbody tr th {\n        vertical-align: top;\n    }\n\n    .dataframe thead th {\n        text-align: right;\n    }\n</style>\n<table border=\"1\" class=\"dataframe\">\n  <thead>\n    <tr style=\"text-align: right;\">\n      <th></th>\n      <th>id</th>\n      <th>target</th>\n    </tr>\n  </thead>\n  <tbody>\n    <tr>\n      <th>0</th>\n      <td>00034db451c4</td>\n      <td>0.006033</td>\n    </tr>\n    <tr>\n      <th>1</th>\n      <td>0006316b5ca0</td>\n      <td>0.002375</td>\n    </tr>\n    <tr>\n      <th>2</th>\n      <td>0006a953d21b</td>\n      <td>0.002036</td>\n    </tr>\n    <tr>\n      <th>3</th>\n      <td>0008a33d6695</td>\n      <td>0.050115</td>\n    </tr>\n    <tr>\n      <th>4</th>\n      <td>00095b5119fc</td>\n      <td>0.019978</td>\n    </tr>\n    <tr>\n      <th>...</th>\n      <td>...</td>\n      <td>...</td>\n    </tr>\n    <tr>\n      <th>35842</th>\n      <td>ffeed3a168de</td>\n      <td>0.000701</td>\n    </tr>\n    <tr>\n      <th>35843</th>\n      <td>fff177e32aac</td>\n      <td>0.003295</td>\n    </tr>\n    <tr>\n      <th>35844</th>\n      <td>fff7d40b225a</td>\n      <td>0.002256</td>\n    </tr>\n    <tr>\n      <th>35845</th>\n      <td>fff8238a709f</td>\n      <td>0.001924</td>\n    </tr>\n    <tr>\n      <th>35846</th>\n      <td>fff882b197de</td>\n      <td>0.002020</td>\n    </tr>\n  </tbody>\n</table>\n<p>35847 rows × 2 columns</p>\n</div>"
     },
     "metadata": {},
     "execution_count": 40
    }
   ],
   "source": [
    "import pandas as pd\n",
    "\n",
    "sub1_df = pd.read_csv('/datadisk/kg/seti/subs/submission_b3_640.csv')\n",
    "sub2_df = pd.read_csv('/datadisk/kg/seti/subs/submission_b3_512_all_folds.csv')\n",
    "sub3_df = pd.read_csv('/datadisk/kg/seti/subs/submission_b3_512_fold3.csv')\n",
    "sub4_df = pd.read_csv('/datadisk/kg/seti/subs/submission_b4_768.csv')\n",
    "sub5_df = pd.read_csv('/datadisk/kg/seti/subs/submission_resnet18d.csv')\n",
    "sub6_df = pd.read_csv('/datadisk/kg/seti/subs/submission_resnet50d.csv')\n",
    "\n",
    "sub_df = pd.read_csv('/datadisk/kg/seti/input/sample_submission.csv')\n",
    "\n",
    "sub_df['target1'] = sub1_df.target * 1.2\n",
    "sub_df['target2'] = sub2_df.target * 0.8\n",
    "sub_df['target3'] = sub3_df.target * 0.8\n",
    "sub_df['target4'] = sub4_df.target * 1.6\n",
    "\n",
    "sub_df['target5'] = sub5_df.target * 0.7\n",
    "sub_df['target6'] = sub6_df.target * 0.9\n",
    "\n",
    "vals = [sub_df.target1.values, sub_df.target2.values, sub_df.target3.values, sub_df.target4.values, sub_df.target5.values, sub_df.target6.values]\n",
    "\n",
    "sub_df['target'] = np.mean(vals, axis=0)\n",
    "\n",
    "sub_df.drop(columns=['target1',\t'target2', 'target3', 'target4', 'target5', 'target6'], inplace=True)\n",
    "sub_df.to_csv('subs/submission.csv', index=False)\n",
    "\n",
    "sub_df"
   ]
  },
  {
   "cell_type": "code",
   "execution_count": 3,
   "metadata": {},
   "outputs": [],
   "source": [
    "import pandas as pd\n",
    "import numpy as np\n",
    "\n",
    "sub1_df = pd.read_csv('/datadisk/kg/seti/subs/submission_b3_640.csv')\n",
    "sub2_df = pd.read_csv('/datadisk/kg/seti/subs/submission_b3_512_all_folds.csv')\n",
    "sub3_df = pd.read_csv('/datadisk/kg/seti/subs/submission_b3_512_fold3.csv')\n",
    "sub4_df = pd.read_csv('/datadisk/kg/seti/subs/submission_b4_768.csv')\n",
    "sub5_df = pd.read_csv('/datadisk/kg/seti/subs/submission_b2_768_plabel_finetune.csv')\n",
    "sub6_df = pd.read_csv('/datadisk/kg/seti/subs/submission_b4_768_plabel.csv')\n",
    "\n",
    "sub_df = pd.read_csv('/datadisk/kg/seti/input/sample_submission.csv')\n",
    "\n",
    "sub_df['target1'] = sub1_df.target * 0.9\n",
    "sub_df['target2'] = sub2_df.target * 0.5\n",
    "sub_df['target3'] = sub3_df.target * 0.3\n",
    "sub_df['target4'] = sub4_df.target * 1.5\n",
    "sub_df['target5'] = sub5_df.target * 1.3\n",
    "sub_df['target6'] = sub6_df.target * 1.5\n",
    "\n",
    "vals = [sub_df.target1.values, sub_df.target2.values, sub_df.target3.values, sub_df.target4.values, sub_df.target5.values, sub_df.target6.values]\n",
    "\n",
    "sub_df['target'] = np.mean(vals, axis=0)\n",
    "\n",
    "sub_df.drop(columns=['target1',\t'target2', 'target3', 'target4', 'target5', 'target6'], inplace=True)\n",
    "sub_df.to_csv('subs/submission.csv', index=False)"
   ]
  },
  {
   "cell_type": "code",
   "execution_count": 3,
   "metadata": {},
   "outputs": [],
   "source": [
    "import pandas as pd\n",
    "import numpy as np\n",
    "\n",
    "sub4_df = pd.read_csv('/datadisk/kg/seti/subs/submission_b4_768.csv')\n",
    "sub5_df = pd.read_csv('/datadisk/kg/seti/subs/submission_b2_768_plabel_finetune.csv')\n",
    "sub6_df = pd.read_csv('/datadisk/kg/seti/subs/submission_b4_768_plabel.csv')\n",
    "sub7_df = pd.read_csv('/datadisk/kg/seti/subs/submission_b3_512_1024.csv')\n",
    "\n",
    "sub_df = pd.read_csv('/datadisk/kg/seti/input/sample_submission.csv')\n",
    "\n",
    "sub_df['target4'] = sub4_df.target * 1.1\n",
    "sub_df['target5'] = sub5_df.target * 0.9\n",
    "sub_df['target6'] = sub6_df.target * 1.0\n",
    "sub_df['target7'] = sub7_df.target * 1.0\n",
    "\n",
    "vals = [sub_df.target4.values, sub_df.target5.values, sub_df.target6.values, sub_df.target7.values]\n",
    "\n",
    "sub_df['target'] = np.mean(vals, axis=0)\n",
    "\n",
    "sub_df.drop(columns=['target4', 'target5', 'target6', 'target7'], inplace=True)\n",
    "sub_df.to_csv('subs/submission.csv', index=False)"
   ]
  },
  {
   "cell_type": "code",
   "execution_count": 9,
   "metadata": {},
   "outputs": [],
   "source": [
    "import pandas as pd\n",
    "\n",
    "sub1_df = pd.read_csv('/datadisk/kg/seti/subs/submission_b3_640.csv')\n",
    "sub2_df = pd.read_csv('/datadisk/kg/seti/subs/submission_b3_512_all_folds.csv')\n",
    "sub3_df = pd.read_csv('/datadisk/kg/seti/subs/submission_b3_512_fold3.csv')\n",
    "\n",
    "sub4_df = pd.read_csv('/datadisk/kg/seti/subs/submission_b4_768.csv')\n",
    "\n",
    "sub5_df = pd.read_csv('/datadisk/kg/seti/subs/submission_resnet18d.csv')\n",
    "sub6_df = pd.read_csv('/datadisk/kg/seti/subs/submission_resnet50d.csv')\n",
    "sub7_df = pd.read_csv('/datadisk/kg/seti/subs/submission_b2_768_plabel_finetune.csv')\n",
    "sub8_df = pd.read_csv('/datadisk/kg/seti/subs/submission_b4_768_plabel.csv')\n",
    "sub9_df = pd.read_csv('/datadisk/kg/seti/subs/submission_b3_512_1024.csv')\n",
    "\n",
    "sub_df = pd.read_csv('/datadisk/kg/seti/input/sample_submission.csv')\n",
    "\n",
    "sub_df['target1'] = sub1_df.target * 1.2\n",
    "sub_df['target2'] = sub2_df.target * 0.8\n",
    "sub_df['target3'] = sub3_df.target * 0.6\n",
    "sub_df['target4'] = sub4_df.target * 1.5\n",
    "sub_df['target5'] = sub5_df.target * 0.6\n",
    "sub_df['target6'] = sub6_df.target * 0.8\n",
    "sub_df['target7'] = sub7_df.target * 1.2\n",
    "sub_df['target8'] = sub8_df.target * 1.2\n",
    "sub_df['target9'] = sub9_df.target * 1.1\n",
    "\n",
    "vals = [sub_df.target1.values, sub_df.target2.values, sub_df.target3.values, sub_df.target4.values, sub_df.target5.values, sub_df.target6.values, \\\n",
    "    sub_df.target7.values, sub_df.target8.values, sub_df.target9.values]\n",
    "\n",
    "sub_df['target'] = np.mean(vals, axis=0)\n",
    "\n",
    "sub_df.drop(columns=['target1',\t'target2', 'target3', 'target4', 'target5', 'target6', 'target7', 'target8', 'target9'], inplace=True)\n",
    "sub_df.to_csv('subs/submission.csv', index=False)"
   ]
  },
  {
   "cell_type": "code",
   "execution_count": 10,
   "metadata": {},
   "outputs": [
    {
     "output_type": "execute_result",
     "data": {
      "text/plain": [
       "9.0"
      ]
     },
     "metadata": {},
     "execution_count": 10
    }
   ],
   "source": [
    "arr = [1.2,\n",
    "0.8,\n",
    "0.6,\n",
    "1.5,\n",
    "0.6,\n",
    "0.8,\n",
    "1.2,\n",
    "1.2,\n",
    "1.1]\n",
    "sum(arr)"
   ]
  },
  {
   "cell_type": "code",
   "execution_count": 2,
   "metadata": {},
   "outputs": [],
   "source": [
    "import pandas as pd\n",
    "import numpy as np\n",
    "\n",
    "sub0_df = pd.read_csv('/datadisk/kg/seti/subs/submission_b4_768.csv')\n",
    "sub1_df = pd.read_csv('/datadisk/kg/seti/subs/submission_b2_768_plabel_finetune.csv')\n",
    "sub2_df = pd.read_csv('/datadisk/kg/seti/subs/submission_b4_768_plabel.csv')\n",
    "sub3_df = pd.read_csv('/datadisk/kg/seti/subs/submission_b3_512_1024.csv')\n",
    "sub4_df = pd.read_csv('/datadisk/kg/seti/subs/submission_effv2_s.csv')\n",
    "# sub5_df = pd.read_csv('/datadisk/kg/seti/subs/submission_b4_768_mixup.csv')\n",
    "sub6_df = pd.read_csv('/datadisk/kg/seti/subs/submission_effv2_s_mixup.csv')\n",
    "\n",
    "sub_df = pd.read_csv('/datadisk/kg/seti/input/sample_submission.csv')\n",
    "\n",
    "sub_df['target0'] = sub0_df.target\n",
    "sub_df['target1'] = sub1_df.target\n",
    "sub_df['target2'] = sub2_df.target\n",
    "sub_df['target3'] = sub3_df.target\n",
    "sub_df['target4'] = sub4_df.target\n",
    "# sub_df['target5'] = sub5_df.target\n",
    "sub_df['target6'] = sub6_df.target\n",
    "\n",
    "vals = [sub_df.target0.values, sub_df.target1.values, sub_df.target2.values, sub_df.target3.values, sub_df.target4.values, # sub_df.target5.values,\n",
    "sub_df.target6.values]\n",
    "\n",
    "sub_df['target'] = np.mean(vals, axis=0)\n",
    "\n",
    "sub_df.drop(columns=['target0', 'target1', 'target2', 'target3', 'target4', 'target6'], inplace=True)\n",
    "sub_df.to_csv('subs/submission.csv', index=False)"
   ]
  },
  {
   "cell_type": "code",
   "execution_count": 4,
   "metadata": {},
   "outputs": [
    {
     "output_type": "stream",
     "name": "stdout",
     "text": [
      "21\n"
     ]
    }
   ],
   "source": [
    "import pandas as pd\n",
    "import numpy as np\n",
    "import glob\n",
    "\n",
    "os.remove('/datadisk/kg/seti/subs/submission.csv')\n",
    "\n",
    "sub_df = pd.read_csv('/datadisk/kg/seti/input/sample_submission.csv')\n",
    "sub_df['target'] = 0\n",
    "\n",
    "i = 0\n",
    "for csv in glob.glob('/datadisk/kg/seti/subs/0.8/*.csv'):\n",
    "    sub_df['target'] += 1.3 * pd.read_csv(csv).target\n",
    "    i += 1\n",
    "\n",
    "for csv in glob.glob('/datadisk/kg/seti/subs/1.0/*.csv'):\n",
    "    sub_df['target'] += 0.8 * pd.read_csv(csv).target\n",
    "    i += 1\n",
    "\n",
    "for csv in glob.glob('/datadisk/kg/seti/subs/1.2/*.csv'):\n",
    "    sub_df['target'] += 0.9 * pd.read_csv(csv).target\n",
    "    i += 1\n",
    "\n",
    "print(i)\n",
    "sub_df['target'] /= i\n",
    "sub_df.to_csv('subs/submission.csv', index=False)"
   ]
  }
 ]
}